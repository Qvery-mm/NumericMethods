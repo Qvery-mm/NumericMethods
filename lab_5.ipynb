{
 "cells": [
  {
   "cell_type": "markdown",
   "metadata": {
    "collapsed": true,
    "pycharm": {
     "name": "#%% md\n"
    }
   },
   "source": [
    "## Дисциплина \"Вычислительный практикум\"\n",
    "## Задание №5\n",
    "# Приближённое вычисление интеграла по квадратурным формулам наивысшей алгебраической степени точности\n",
    "## Ковальчуков Александр, 223 группа\n",
    "### Вариант №4"
   ]
  },
  {
   "cell_type": "markdown",
   "metadata": {},
   "source": [
    "## Постановка задачи\n",
    "\n",
    "Требуется приближенно вычислить интеграл\n",
    "\n",
    "$$\\int_a^b \\varphi(x)dx$$\n",
    "\n",
    "где подынтегральная функция может не быть достаточно гладкой на промежутке интегрирования,\n",
    "но представима в виде $\\varphi(x) = \\rho(x) f(x)$, где $\\rho(x)$ содержит особенности, а $f(x)$ является\n",
    "достаточно гладкой на $[a, b]$\n",
    "Далее будем рассматривать квадратурную формулу вида:\n",
    "\n",
    "$$\\int_a^b \\rho(x) f(x) dx \\approx \\sum_{k=1}^n A_k f(x_k) \\label{eq:f1} \\tag{1}$$\n",
    "\n",
    "где $x_k$ - узлы квадратурной формулы, а $A_k$ - коэффициенты\n",
    "\n",
    "$\\rho(x)$ - называется весовой функцией, и для неё должны существовать моменты\n",
    "весовой функции:\n",
    "\n",
    "$$|\\mu_k| = |\\int_a^b \\rho(x) x^k dx| < \\infty, \\;\\; k = 0, 1, 2, \\dots n$$\n",
    "\n",
    "Квадратурная формула будет интерполяционной, если\n",
    "\n",
    "$$A_k = \\int_a^b \\rho(x) \\frac{\\omega(x)}{(x - x_k) \\omega'(x_k)} dx$$\n",
    "\n",
    "### <font color=blue> Теорема 1 </font>\n",
    "Для того, чтобы квадратурная формула $\\eqref{eq:f1}$ была точна для любого многочлена степени\n",
    "не выше $2n - 1$, необходимо и достаточно, чтобы\n",
    "\n",
    " - узлы  $x_1, x_2, \\dots, x_n$ являлись корнями ортогонального относительно веса $\\rho(x)$\n",
    " и отрезка $[a, b]$ многочлена $\\omega(x) = (x - x_1)(x - x_2)\\dots(x - x_n)$\n",
    " - формула $\\eqref{eq:f1}$ была интерполяционной\n",
    "\n",
    "### <font color=blue> Теорема 2 </font>\n",
    "Пусть отрезок интегрирования $[a, b]$ конечен. Если функция $f(x)$ имеет непрерывную на $[a, b]$\n",
    "производную порядка $2n$, то существует точка $\\nu \\in [a, b]$, такая что погрешность квадратурной\n",
    "формулы $\\eqref{eq:f1}$ гауссова типа имеет представление\n",
    "\n",
    "$$R_n(f) = \\frac{f^{2n}(\\mu)}{(2n)!} \\int_a^b \\rho(x) \\omega^2(x)dx$$\n",
    "\n",
    "\n",
    "\n",
    "\n",
    "Код программы написан ня языке `python` с использованием интерактивной среды `Jupyter notebook`.\n",
    "\n",
    "\n"
   ]
  },
  {
   "cell_type": "code",
   "execution_count": 1,
   "metadata": {
    "pycharm": {
     "name": "#%%\n"
    }
   },
   "outputs": [],
   "source": [
    "import math\n",
    "import pandas as pd"
   ]
  },
  {
   "cell_type": "markdown",
   "metadata": {
    "pycharm": {
     "name": "#%% md\n"
    }
   },
   "source": [
    "Задача: Различными методами вычислить интеграл:\n",
    "\n",
    "$$\\int_0^1 \\frac{e^x}{\\sqrt[3]x}$$\n"
   ]
  },
  {
   "cell_type": "code",
   "execution_count": 2,
   "metadata": {
    "pycharm": {
     "name": "#%%\n"
    }
   },
   "outputs": [],
   "source": [
    "I = 2.3435910933259677"
   ]
  },
  {
   "cell_type": "markdown",
   "metadata": {
    "pycharm": {
     "name": "#%% md\n"
    }
   },
   "source": [
    "#### <font color=green> Точное значение интеграла: </font>\n",
    "\n",
    "$$\\int_0^1 \\frac{e^x}{\\sqrt[3]x} = \\sqrt[3]{-1}(\\Gamma(\\frac{2}{3}, -1) - \\Gamma(\\frac{2}{3})) \\approx 2.3435910933259677$$"
   ]
  },
  {
   "cell_type": "markdown",
   "metadata": {
    "pycharm": {
     "name": "#%% md\n"
    }
   },
   "source": [
    "#### Формула средних прямоугольников с тремя узлами"
   ]
  },
  {
   "cell_type": "code",
   "execution_count": 3,
   "metadata": {
    "pycharm": {
     "name": "#%%\n"
    }
   },
   "outputs": [
    {
     "name": "stdout",
     "output_type": "stream",
     "text": [
      "2.2230282386930704\n",
      "0.1205628546328974\n"
     ]
    }
   ],
   "source": [
    "def middle(a, b, func, w, m):\n",
    "    h = (b - a) / m\n",
    "    alpha = a + h/2\n",
    "    return h * sum(w(alpha + k * h) * func(alpha + k * h) for k in range(m))\n",
    "\n",
    "f = lambda x: math.e**x / x**(1/3)\n",
    "w = lambda x: 1\n",
    "M = 3\n",
    "A = 0\n",
    "B = 1\n",
    "I_middle = middle(A, B, f, w, M)\n",
    "print(I_middle)\n",
    "print(abs(I_middle - I))"
   ]
  },
  {
   "cell_type": "markdown",
   "metadata": {},
   "source": [
    "#### <font color=green> Значение интеграла по формуле средних прямоугольников с тремя узлами: </font>\n",
    "$$\\int_0^1 \\frac{e^x}{\\sqrt[3]x} \\approx 2.2230282386930704$$\n",
    "#### <font color=green> Величина абсолютной фактической погрешности:  </font>\n",
    "0.120561561606013"
   ]
  },
  {
   "cell_type": "markdown",
   "metadata": {
    "pycharm": {
     "name": "#%% md\n"
    }
   },
   "source": [
    "#### Интерополяционная формула с весом $\\frac{1}{\\sqrt[3]{x}}$ по узлам $\\frac{1}{6}, \\; \\frac{1}{2}, \\; \\frac{5}{6}$\n"
   ]
  },
  {
   "cell_type": "code",
   "execution_count": 4,
   "metadata": {
    "pycharm": {
     "name": "#%%\n"
    }
   },
   "outputs": [
    {
     "name": "stdout",
     "output_type": "stream",
     "text": [
      "2.3459717130858713\n",
      "0.002380619759903446\n",
      "x1: 0.16666666666666666, x2: 0.5, x3: 0.8333333333333334\n",
      "A1: 0.9000000000000001, A2: 0.14999999999999966, A3: 0.44999999999999996\n"
     ]
    }
   ],
   "source": [
    "from sympy import Symbol, integrate, lambdify, solve, re\n",
    "x = Symbol('x')\n",
    "\n",
    "def definite_integral(func, a, b):\n",
    "    indefinite_integral = lambdify(x, integrate(func, x))\n",
    "    return indefinite_integral(b) - indefinite_integral(a)\n",
    "\n",
    "A = 0\n",
    "B = 1\n",
    "x1 = 1 / 6\n",
    "x2 = 1 / 2\n",
    "x3 = 5 / 6\n",
    "w = 1 / x**(1/3)\n",
    "f =  lambda x: math.e**x\n",
    "omega = (x - x1) * (x - x2) * (x - x3)\n",
    "d_omega = lambda x: 3 * x**2 - 2 * (x1 + x2 + x3) * x + (x1 * x2 + x2 * x3 + x1 * x3)\n",
    "\n",
    "mu0, mu1, mu2 = map(definite_integral, [w * x**k for k in range(3)], [A]*3, [B]*3)\n",
    "\n",
    "A1 = 1 / d_omega(x1) * (mu2 - (x2 + x3) * mu1 + x2 * x3 * mu0)\n",
    "A2 = 1 / d_omega(x2) * (mu2 - (x1 + x3) * mu1 + x1 * x3 * mu0)\n",
    "A3 = 1 / d_omega(x3) * (mu2 - (x1 + x2) * mu1 + x1 * x2 * mu0)\n",
    "\n",
    "I_interpolate = A1 * f(x1) + A2 * f(x2) + A3 * f(x3)\n",
    "print(I_interpolate)\n",
    "print(abs(I - I_interpolate))\n",
    "print(f'x1: {x1}, x2: {x2}, x3: {x3}')\n",
    "print(f'A1: {A1}, A2: {A2}, A3: {A3}')"
   ]
  },
  {
   "cell_type": "markdown",
   "metadata": {},
   "source": [
    "#### <font color=green> Значение интеграла по интерополяционной формуле с заданными узлами: </font>\n",
    "$$\\int_0^1 \\frac{e^x}{\\sqrt[3]x} \\approx 2.3459717130858713 $$\n",
    "#### <font color=green> Величина абсолютной фактической погрешности:  </font>\n",
    "0.00238191278678812\n"
   ]
  },
  {
   "cell_type": "markdown",
   "metadata": {},
   "source": [
    "#### Формула Гаусса с двумя узлами"
   ]
  },
  {
   "cell_type": "code",
   "execution_count": 8,
   "metadata": {
    "pycharm": {
     "name": "#%%\n"
    }
   },
   "outputs": [
    {
     "name": "stdout",
     "output_type": "stream",
     "text": [
      "2.2278071408202447\n",
      "0.11578395250572315\n",
      "x1 0.21132486540518708\n",
      "A1 0.5\n",
      "x2 0.7886751345948129\n",
      "A2 0.5\n"
     ]
    }
   ],
   "source": [
    "A = 0\n",
    "B = 1\n",
    "w = lambda x: 1\n",
    "f = lambda x: math.e**x / x**(1/3)\n",
    "t = 1 / 3**(1/2)\n",
    "\n",
    "I_Gauss = (B - A) / 2 * (f((B - A) / 2 * - t + (B + A) / 2) + f((B - A) / 2 * t + (B + A) / 2))\n",
    "print(I_Gauss)\n",
    "print(abs(I - I_Gauss))\n",
    "print(\"x1\", (B - A) / 2 * - t + (B + A) / 2)\n",
    "print(\"A1\", (B - A) / 2)\n",
    "print(\"x2\", (B - A) / 2 * t + (B + A) / 2)\n",
    "print(\"A2\", (B - A) / 2)"
   ]
  },
  {
   "cell_type": "markdown",
   "metadata": {
    "pycharm": {
     "name": "#%% md\n"
    }
   },
   "source": [
    "#### <font color=green> Значение интеграла по формуле Гаусса: </font>\n",
    "$$\\int_0^1 \\frac{e^x}{\\sqrt[3]x} \\approx 2.2278071408202447 $$\n",
    "#### <font color=green> Величина абсолютной фактической погрешности:  </font>\n",
    "0.11578395250572315"
   ]
  },
  {
   "cell_type": "markdown",
   "metadata": {
    "pycharm": {
     "name": "#%% md\n"
    }
   },
   "source": [
    "#### Формула типа Гаусса с двумя узлами"
   ]
  },
  {
   "cell_type": "code",
   "execution_count": 9,
   "metadata": {
    "pycharm": {
     "name": "#%%\n"
    }
   },
   "outputs": [
    {
     "name": "stdout",
     "output_type": "stream",
     "text": [
      "-0.9090909090909111 0.11363636363636441\n",
      "x1: 0.149627093977301, x2: 0.759463815113608\n",
      "Коэффициенты квадратурной формулы: A1 = 0.884164078649987, A2 = 0.615835921350013\n",
      "Нулевой момент: 1.5\n",
      "Сумма коэффициентов: 1.50000000000000\n",
      "2.34299053839243\n",
      "0.000600554933535502\n"
     ]
    }
   ],
   "source": [
    "import numpy as np\n",
    "from sympy import Symbol, integrate, lambdify, solve, re\n",
    "x = Symbol('x')\n",
    "\n",
    "def definite_integral(func, a, b):\n",
    "    indefinite_integral = lambdify(x, integrate(func, x))\n",
    "    return indefinite_integral(b) - indefinite_integral(a)\n",
    "\n",
    "def solve_kramer_rule(A, b):\n",
    "    n, m = A.shape\n",
    "    if n == m == len(b):\n",
    "        solution = [0] * n\n",
    "        det_A = np.linalg.det(A)\n",
    "        for i in range(n):\n",
    "            B = A.copy()\n",
    "            B[:, i] = b\n",
    "            solution[i] = np.linalg.det(B) / det_A\n",
    "        return solution\n",
    "    else:\n",
    "        raise ValueError(\"matrix A and list b must have the same length\")\n",
    "\n",
    "\n",
    "A = 0\n",
    "B = 1\n",
    "w = 1 / x**(1/3)\n",
    "f =  lambda x: math.e**x\n",
    "\n",
    "mu0, mu1, mu2, mu3 = map(definite_integral, [w * x**k for k in range(4)], [A]*4, [B]*4)\n",
    "\n",
    "\n",
    "A = np.array([[mu1, mu0], [mu2, mu1]])\n",
    "b = np.array([-mu2, -mu3])\n",
    "\n",
    "[a1, a2] = solve_kramer_rule(A, b)\n",
    "\n",
    "print(a1, a2)\n",
    "\n",
    "array = list(map(re, solve(x**2 + a1 * x + a2)))\n",
    "# print(array)\n",
    "[x1, x2] = array\n",
    "print(f'x1: {x1}, x2: {x2}')\n",
    "omega = (x - x1) * (x - x2)\n",
    "d_omega = lambda x: 2 * x - (x1 + x2)\n",
    "\n",
    "\n",
    "\n",
    "A1 = 1 / d_omega(x1) * (mu1 - x2 * mu0)\n",
    "A2 = 1 / d_omega(x2) * (mu1 - x1 * mu0)\n",
    "\n",
    "print(f\"Коэффициенты квадратурной формулы: A1 = {A1}, A2 = {A2}\")\n",
    "print(\"Нулевой момент:\", mu0)\n",
    "print(\"Сумма коэффициентов:\",A1 + A2)\n",
    "\n",
    "I_Gauss_type = A1 * f(x1) + A2 * f(x2)\n",
    "print(I_Gauss_type)\n",
    "print(abs(I - I_Gauss_type))"
   ]
  },
  {
   "cell_type": "markdown",
   "metadata": {},
   "source": [
    "#### <font color=green> Значение интеграла по формуле Гаусса: </font>\n",
    "$$\\int_0^1 \\frac{e^x}{\\sqrt[3]x} \\approx 2.34299053839243 $$\n",
    "#### <font color=green> Величина абсолютной фактической погрешности:  </font>\n",
    "0.000600554933535502"
   ]
  },
  {
   "cell_type": "markdown",
   "metadata": {
    "pycharm": {
     "name": "#%% md\n"
    }
   },
   "source": [
    "### Выводы на основе тестирования\n",
    "Из всех представленных квадратурных формул самая маленькая абсолютная фактическая погрешность вычисления интеграла\n",
    "\n",
    "$$\\int_0^1 \\frac{e^x}{\\sqrt[3]x}$$\n",
    "\n",
    "оказалась у квадратурной формулы типа Гаусса с двумя узлами и составила <font color=blue> 0.000600554933535502 </font>"
   ]
  }
 ],
 "metadata": {
  "kernelspec": {
   "display_name": "Python 3",
   "language": "python",
   "name": "python3"
  },
  "language_info": {
   "codemirror_mode": {
    "name": "ipython",
    "version": 3
   },
   "file_extension": ".py",
   "mimetype": "text/x-python",
   "name": "python",
   "nbconvert_exporter": "python",
   "pygments_lexer": "ipython3",
   "version": "3.7.7"
  }
 },
 "nbformat": 4,
 "nbformat_minor": 1
}