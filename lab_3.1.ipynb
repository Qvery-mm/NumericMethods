{
 "cells": [
  {
   "cell_type": "markdown",
   "metadata": {
    "collapsed": true,
    "pycharm": {
     "name": "#%% md\n"
    }
   },
   "source": [
    "## Дисциплина \"Вычислительный практикум\"\n",
    "## Задание №3.1\n",
    "## Задача обратного интерполирования\n",
    "## Ковальчуков Александр, 223 группа\n",
    "### Вариант №4"
   ]
  },
  {
   "cell_type": "markdown",
   "metadata": {
    "pycharm": {
     "name": "#%% md\n"
    }
   },
   "source": [
    "## Постановка задачи\n",
    "Пусть дана таблично-заданная функция. Необходимо найти значение аргумента\n",
    "(задача может иметь не единственное решение), при котором данная таблично-заданная функция принимает\n",
    "заданное значение **F**.\n",
    "\n",
    "Параметры задачи:\n",
    "\n",
    "**A, B** - концы промежутка задания таблично заданной функции с равноотстоящими узлами\n",
    "\n",
    "**m** - число промежутков между узлами\n",
    "\n",
    "**n** - максимальная степень интерполяционного многочлена\n",
    "\n",
    "**F** - значение, которое должна принять таблично-заданная функция.\n",
    "\n",
    "Также в коде задачи предопределена функция $f(x)$, по которой запоняются значения таблично-заданной функции.\n",
    "\n",
    "Здесь\n",
    "\n",
    "$f(x) = \\sqrt{x^2 + 1}$"
   ]
  },
  {
   "cell_type": "code",
   "execution_count": 1,
   "metadata": {
    "pycharm": {
     "name": "#%%\n"
    }
   },
   "outputs": [],
   "source": [
    "def f(x):\n",
    "    return (x**2 + 1)**(1/2)\n"
   ]
  },
  {
   "cell_type": "markdown",
   "metadata": {
    "pycharm": {
     "name": "#%% md\n"
    }
   },
   "source": [
    "# 1 способ решения\n",
    "\n",
    "Предположим, что таблично-заданная функция строго монотонна и неперерывна на отрезке **[A,B]**.\n",
    "Тогда у неё существует обратная, также строго монотонная и непрерывная.\n",
    "Тогда задача обратного интерполирования может быть сведена к задаче поиска значения обратной функции в точке **F**\n",
    "(при этом следует поменять местами столбцы исходной таблицы).\n",
    "\n",
    "Заметим, что при соблюдении строгой монотонности задача имеет единственное решение.\n",
    "\n",
    "Код программы написан ня языке python с использованием интерактивной среды Jupyter notebook."
   ]
  },
  {
   "cell_type": "markdown",
   "metadata": {
    "pycharm": {
     "name": "#%% md\n"
    }
   },
   "source": [
    "# Подключение модулей, написанных для заданий 1 и 2."
   ]
  },
  {
   "cell_type": "code",
   "execution_count": 2,
   "metadata": {
    "pycharm": {
     "name": "#%%\n"
    }
   },
   "outputs": [],
   "source": [
    "from lab_1 import get_roots\n",
    "from lab_2 import interpolate_and_get_result\n",
    "import pandas as pd"
   ]
  },
  {
   "cell_type": "markdown",
   "metadata": {
    "pycharm": {
     "name": "#%% md\n"
    }
   },
   "source": [
    "# Код 1 метода"
   ]
  },
  {
   "cell_type": "code",
   "execution_count": 3,
   "metadata": {
    "pycharm": {
     "name": "#%%\n"
    }
   },
   "outputs": [],
   "source": [
    "def reverse_table():\n",
    "    print('Введите A - левый конец отрезка:', end=' ')\n",
    "    a = float(input())\n",
    "    print('Введите B - правый конец отрезка:', end=' ')\n",
    "    b = float(input())\n",
    "    print('Введите m - количество промежутков между узлами:', end=' ')\n",
    "    m = int(input())\n",
    "    print('Введите n - максимальную степень интерполяционного многочлена:', end=' ')\n",
    "    n = int(input())\n",
    "    print('Введите F - значение функции для задачи обратного интерполрования:', end=' ')\n",
    "    F = float(input())\n",
    "\n",
    "\n",
    "    # заполнение таблично-заданной функции\n",
    "    values = []\n",
    "    for i in range(m + 1):\n",
    "        xi = (a + i * (b - a) / m)\n",
    "        values.append((abs(f(xi) - F), f(xi), xi))\n",
    "\n",
    "    print('Таблица значений функции')\n",
    "    df = pd.DataFrame(values, columns=['d', 'f(xi)', 'xi'])\n",
    "    df = df.drop('d', axis=1)\n",
    "    print(df)\n",
    "\n",
    "    if n > m:\n",
    "        print('Степень не можеть быть больше чем', m)\n",
    "        return -1\n",
    "\n",
    "    values.sort()\n",
    "    try:\n",
    "        x = interpolate_and_get_result(values, n, F)\n",
    "        print('Найденное значение x:', x)\n",
    "        print('Найденное значение Pn(x):', f(x))\n",
    "        print('Величина невязки |Pn(x) - F|:', abs(f(x) - F))\n",
    "    except ZeroDivisionError:\n",
    "        print('Функция не строго монотонна. Интерполяция перевёрнутой таблицы невозможна')"
   ]
  },
  {
   "cell_type": "code",
   "execution_count": 4,
   "metadata": {
    "pycharm": {
     "name": "#%%\n"
    }
   },
   "outputs": [
    {
     "name": "stdout",
     "output_type": "stream",
     "text": [
      "Введите A - левый конец отрезка: 0\n",
      "Введите B - правый конец отрезка: 1\n",
      "Введите m - количество промежутков между узлами: 10\n",
      "Введите n - максимальную степень интерполяционного многочлена: 5\n",
      "Введите F - значение функции для задачи обратного интерполрования: 1.2\n",
      "Таблица значений функции\n",
      "       f(xi)   xi\n",
      "0   1.000000  0.0\n",
      "1   1.004988  0.1\n",
      "2   1.019804  0.2\n",
      "3   1.044031  0.3\n",
      "4   1.077033  0.4\n",
      "5   1.118034  0.5\n",
      "6   1.166190  0.6\n",
      "7   1.220656  0.7\n",
      "8   1.280625  0.8\n",
      "9   1.345362  0.9\n",
      "10  1.414214  1.0\n",
      "Найденное значение x: 0.663299919148295\n",
      "Найденное значение Pn(x): 1.199986159396072\n",
      "Величина невязки |Pn(x) - F|: 1.3840603928061412e-05\n",
      "Введите q чтобы завершить ввод, или любую другой символ, чтобы продолжить: c\n",
      "~~~~~~~~~~~~~~~~~~~~~~~~~~~~~~~~~~~~\n",
      "\n",
      "\n",
      "\n",
      "Введите A - левый конец отрезка: -2\n",
      "Введите B - правый конец отрезка: 2\n",
      "Введите m - количество промежутков между узлами: 20\n",
      "Введите n - максимальную степень интерполяционного многочлена: 6\n",
      "Введите F - значение функции для задачи обратного интерполрования: 1.7\n",
      "Таблица значений функции\n",
      "       f(xi)   xi\n",
      "0   2.236068 -2.0\n",
      "1   2.059126 -1.8\n",
      "2   1.886796 -1.6\n",
      "3   1.720465 -1.4\n",
      "4   1.562050 -1.2\n",
      "5   1.414214 -1.0\n",
      "6   1.280625 -0.8\n",
      "7   1.166190 -0.6\n",
      "8   1.077033 -0.4\n",
      "9   1.019804 -0.2\n",
      "10  1.000000  0.0\n",
      "11  1.019804  0.2\n",
      "12  1.077033  0.4\n",
      "13  1.166190  0.6\n",
      "14  1.280625  0.8\n",
      "15  1.414214  1.0\n",
      "16  1.562050  1.2\n",
      "17  1.720465  1.4\n",
      "18  1.886796  1.6\n",
      "19  2.059126  1.8\n",
      "20  2.236068  2.0\n",
      "Функция не строго монотонна. Интерполяция перевёрнутой таблицы невозможна\n",
      "Введите q чтобы завершить ввод, или любую другой символ, чтобы продолжить: q\n"
     ]
    }
   ],
   "source": [
    "while True:\n",
    "    reverse_table()\n",
    "    print('Введите q чтобы завершить ввод, или любую другой символ, чтобы продолжить:', end=' ')\n",
    "    s = input()\n",
    "    if s == 'q':\n",
    "        break\n",
    "    else:\n",
    "        print('~~~~~~~~~~~~~~~~~~~~~~~~~~~~~~~~~~~~\\n\\n\\n')"
   ]
  },
  {
   "cell_type": "markdown",
   "metadata": {
    "pycharm": {
     "name": "#%% md\n"
    }
   },
   "source": [
    "# 2 способ\n",
    "\n",
    "Если мы не располагаем информацией, что на рассматриваемом участке таблицы функция строго\n",
    "монотонна и непрерывна, и, следовательно, не полномочны «переворачивать таблицу»,\n",
    "то возможно следующее решение.\n",
    "Также этот способ решения можно применять, если первый способ возможен,\n",
    "но не дал хороший результат (например, если обратная функция плохо приближается многочленом).\n",
    "\n",
    "Результатом решения задачи обратного интерполирования 2 способом\n",
    " будут корени уравнения $P_n(x)=F$, где $P_n(x)$ – интерполяционный полином функции **f(x)**.\n",
    "\n",
    "При построении интерполяционного многочлена $P_n(x)$ будем использовать программу из Задания №2.\n",
    "Алгебраическое уравнение решим методом бисекции c точностью $\\varepsilon$ при помощи программы из задания №1\n",
    "\n",
    "Код 2 метода"
   ]
  },
  {
   "cell_type": "code",
   "execution_count": 5,
   "metadata": {
    "pycharm": {
     "name": "#%%\n"
    }
   },
   "outputs": [],
   "source": [
    "def normal_table():\n",
    "\n",
    "    print('Введите A - левый конец отрезка:', end=' ')\n",
    "    a = float(input())\n",
    "    print('Введите B - правый конец отрезка:', end=' ')\n",
    "    b = float(input())\n",
    "    print('Введите m - количество промежутков между узлами:', end=' ')\n",
    "    m = int(input())\n",
    "    print('Введите n - максимальную степень интерполяционного многочлена:', end=' ')\n",
    "    n = int(input())\n",
    "    print('Введите F - значение функции для задачи обратного интерполирования::', end=' ')\n",
    "    F = float(input())\n",
    "    print('Введите e - точность нахождения корней:', end=' ')\n",
    "    epsilon = float(input())\n",
    "\n",
    "    # заполняем таблицу\n",
    "    values = []\n",
    "    for i in range(m + 1):\n",
    "        xi = (a + i * (b - a) / m)\n",
    "        values.append((abs(xi - (b + a)/2), xi, f(xi)))\n",
    "\n",
    "    print('Таблица значений функции')\n",
    "    df = pd.DataFrame(values, columns=['d', 'xi', 'f(xi)'])\n",
    "    df = df.drop('d', axis=1)\n",
    "    print(df)\n",
    "\n",
    "    if n > m:\n",
    "        print('Степень не можеть быть больше чем', m)\n",
    "        return -1\n",
    "\n",
    "    values.sort()\n",
    "\n",
    "    def polynomial(arg):\n",
    "        return interpolate_and_get_result(values, n, arg) - F\n",
    "\n",
    "    list_root = get_roots(a, b, polynomial, epsilon)\n",
    "    for x in list_root:\n",
    "        print('Найденное значение x:', x)\n",
    "        print('Полученное значение Pn(x):', f(x))\n",
    "        print('Величина невязки |Pn(x) - F|:', abs(f(x) - F))\n",
    "\n",
    "    %matplotlib inline\n",
    "    import matplotlib.pyplot as plt\n",
    "    import numpy\n",
    "\n",
    "    fig = plt.figure()\n",
    "    ax = plt.axes()\n",
    "    ax.grid()\n",
    "    ax.hlines(F, a, b)\n",
    "    fig.suptitle(\"График функции f(x) и её интерполяционного многочлена\")\n",
    "\n",
    "    X = numpy.arange(a, b, 0.01)\n",
    "    Y = []\n",
    "    Y1 = []\n",
    "    for i in X:\n",
    "        Y.append(polynomial(i) + F)\n",
    "        Y1.append(f(i))\n",
    "    plt.plot(X, Y, label='approximation')\n",
    "    plt.plot(X, Y1, label='f(x)')\n",
    "    plt.legend()\n",
    "    plt.show()"
   ]
  },
  {
   "cell_type": "code",
   "execution_count": 6,
   "metadata": {
    "pycharm": {
     "name": "#%%\n"
    }
   },
   "outputs": [
    {
     "name": "stdout",
     "output_type": "stream",
     "text": [
      "Введите A - левый конец отрезка: 0\n",
      "Введите B - правый конец отрезка: 1\n",
      "Введите m - количество промежутков между узлами: 10\n",
      "Введите n - максимальную степень интерполяционного многочлена: 5\n",
      "Введите F - значение функции для задачи обратного интерполирования:: 1.2\n",
      "Введите e - точность нахождения корней: 0.00000001\n",
      "Таблица значений функции\n",
      "     xi     f(xi)\n",
      "0   0.0  1.000000\n",
      "1   0.1  1.004988\n",
      "2   0.2  1.019804\n",
      "3   0.3  1.044031\n",
      "4   0.4  1.077033\n",
      "5   0.5  1.118034\n",
      "6   0.6  1.166190\n",
      "7   0.7  1.220656\n",
      "8   0.8  1.280625\n",
      "9   0.9  1.345362\n",
      "10  1.0  1.414214\n",
      "1\n",
      "Найденное значение x: 0.6633257161487234\n",
      "Полученное значение Pn(x): 1.2000004190433504\n",
      "Величина невязки |Pn(x) - F|: 4.190433504636104e-07\n"
     ]
    },
    {
     "data": {
      "image/png": "[encoded data removed]",
      "text/plain": [
       "<Figure size 432x288 with 1 Axes>"
      ]
     },
     "metadata": {
      "needs_background": "light"
     },
     "output_type": "display_data"
    },
    {
     "name": "stdout",
     "output_type": "stream",
     "text": [
      "Введите q чтобы завершить ввод, или любую другой символ, чтобы продолжить: c\n",
      "~~~~~~~~~~~~~~~~~~~~~~~~~~~~~~~~~~~~\n",
      "\n",
      "\n",
      "\n",
      "Введите A - левый конец отрезка: -2\n",
      "Введите B - правый конец отрезка: 2\n",
      "Введите m - количество промежутков между узлами: 20\n",
      "Введите n - максимальную степень интерполяционного многочлена: 6\n",
      "Введите F - значение функции для задачи обратного интерполирования:: 1.7\n",
      "Введите e - точность нахождения корней: 0.00000001\n",
      "Таблица значений функции\n",
      "     xi     f(xi)\n",
      "0  -2.0  2.236068\n",
      "1  -1.8  2.059126\n",
      "2  -1.6  1.886796\n",
      "3  -1.4  1.720465\n",
      "4  -1.2  1.562050\n",
      "5  -1.0  1.414214\n",
      "6  -0.8  1.280625\n",
      "7  -0.6  1.166190\n",
      "8  -0.4  1.077033\n",
      "9  -0.2  1.019804\n",
      "10  0.0  1.000000\n",
      "11  0.2  1.019804\n",
      "12  0.4  1.077033\n",
      "13  0.6  1.166190\n",
      "14  0.8  1.280625\n",
      "15  1.0  1.414214\n",
      "16  1.2  1.562050\n",
      "17  1.4  1.720465\n",
      "18  1.6  1.886796\n",
      "19  1.8  2.059126\n",
      "20  2.0  2.236068\n",
      "2\n",
      "Найденное значение x: -1.2882542510827384\n",
      "Полученное значение Pn(x): 1.6308277086905125\n",
      "Величина невязки |Pn(x) - F|: 0.06917229130948743\n",
      "Найденное значение x: 1.2882542510827384\n",
      "Полученное значение Pn(x): 1.6308277086905125\n",
      "Величина невязки |Pn(x) - F|: 0.06917229130948743\n"
     ]
    },
    {
     "data": {
      "image/png": "[encoded data removed]",
      "text/plain": [
       "<Figure size 432x288 with 1 Axes>"
      ]
     },
     "metadata": {
      "needs_background": "light"
     },
     "output_type": "display_data"
    },
    {
     "name": "stdout",
     "output_type": "stream",
     "text": [
      "Введите q чтобы завершить ввод, или любую другой символ, чтобы продолжить: q\n"
     ]
    }
   ],
   "source": [
    "while True:\n",
    "    normal_table()\n",
    "    print('Введите q чтобы завершить ввод, или любую другой символ, чтобы продолжить:', end=' ')\n",
    "    s = input()\n",
    "    if s == 'q':\n",
    "        break\n",
    "    else:\n",
    "        print('~~~~~~~~~~~~~~~~~~~~~~~~~~~~~~~~~~~~\\n\\n\\n')"
   ]
  },
  {
   "cell_type": "markdown",
   "metadata": {
    "pycharm": {
     "name": "#%% md\n"
    }
   },
   "source": [
    "## Выводы\n",
    "\n",
    "Как видно, в задаче с начальными данными $a = 0$, $b = 1$, $F = 1.2$ второй метод дал большую точность.\n",
    "\n",
    "С начальными данными $a = -2$, $b = 2$, $F = 1.7$ первый метод не смог дать ответ, поскольку на указанном промежутке функция не строго монотонна. При этом второй метод чуть более трудозатратный, потому что помимо интерполирования таблично заданной функции, необходимо еще проводить процедуру отделения корней."
   ]
  }
 ],
 "metadata": {
  "kernelspec": {
   "display_name": "Python 3",
   "language": "python",
   "name": "python3"
  },
  "language_info": {
   "codemirror_mode": {
    "name": "ipython",
    "version": 3
   },
   "file_extension": ".py",
   "mimetype": "text/x-python",
   "name": "python",
   "nbconvert_exporter": "python",
   "pygments_lexer": "ipython3",
   "version": "3.7.7"
  }
 },
 "nbformat": 4,
 "nbformat_minor": 1
}