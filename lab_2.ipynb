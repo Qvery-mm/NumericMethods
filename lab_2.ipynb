{
 "cells": [
  {
   "cell_type": "markdown",
   "metadata": {},
   "source": [
    "# Лабораторная работа №2\n",
    "### Задача алгебраического интерполирования\n",
    "### Интерполяционный многочлен в форме Ньютона и в форме Лагранжа\n"
   ]
  },
  {
   "cell_type": "markdown",
   "metadata": {},
   "source": [
    "### Вариант 4"
   ]
  },
  {
   "cell_type": "code",
   "execution_count": 1,
   "metadata": {},
   "outputs": [],
   "source": [
    "from math import exp\n",
    "import pandas as pd\n",
    "\n",
    "def f(y):\n",
    "        return 1 - exp(-2 * y)"
   ]
  },
  {
   "cell_type": "markdown",
   "metadata": {},
   "source": [
    "### Аппроксимируемая функция\n",
    "$f(x) = \\sqrt{1 + x^2}$"
   ]
  },
  {
   "cell_type": "code",
   "execution_count": 2,
   "metadata": {},
   "outputs": [],
   "source": [
    "values = []\n",
    "\n",
    "def RR(a, b):\n",
    "        if a > b:\n",
    "            exit(0)\n",
    "        if a == b:\n",
    "            return values[a][2]\n",
    "        else:\n",
    "            return (RR(a + 1, b) - RR(a, b - 1)) / (values[b][1] - values[a][1])\n",
    "        \n",
    "def Newton(z):\n",
    "    ans = 0\n",
    "    product = 1\n",
    "    for k in range(n + 1):\n",
    "        ans += RR(0, k) * product\n",
    "        product *= (z - values[k][1])\n",
    "    return ans\n",
    "\n",
    "\n",
    "def z_k(k, z):\n",
    "    product = 1\n",
    "    for p in range(n + 1):\n",
    "        if p != k:\n",
    "            product *= (z - values[p][1])\n",
    "    return product\n",
    "\n",
    "\n",
    "def Lagrange(q):\n",
    "    ans = 0\n",
    "    for t in range(n + 1):\n",
    "        ans += values[t][2] * z_k(t, x) / z_k(t, values[t][1])\n",
    "    return ans\n",
    "\n"
   ]
  },
  {
   "cell_type": "code",
   "execution_count": 3,
   "metadata": {},
   "outputs": [
    {
     "name": "stdout",
     "output_type": "stream",
     "text": [
      "Введите a:\n",
      "Введите b:\n",
      "Введите m - число промежутков между узлами:\n",
      "    0    1         2\n",
      "0   0  0.0  0.000000\n",
      "1   0  0.2  0.329680\n",
      "2   0  0.4  0.550671\n",
      "3   0  0.6  0.698806\n",
      "4   0  0.8  0.798103\n",
      "5   0  1.0  0.864665\n",
      "6   0  1.2  0.909282\n",
      "7   0  1.4  0.939190\n",
      "8   0  1.6  0.959238\n",
      "9   0  1.8  0.972676\n",
      "10  0  2.0  0.981684\n",
      "11  0  2.2  0.987723\n",
      "12  0  2.4  0.991770\n",
      "13  0  2.6  0.994483\n",
      "14  0  2.8  0.996302\n",
      "15  0  3.0  0.997521\n",
      "Введите n - максимальную степень интерполяционного многочлена:\n",
      "Введите x:\n",
      "N(x) =  -1.6871465381383641\n",
      "-1.718281828459045\n",
      "погрешность метода Ньютона в точке x: 0.031135290320680964\n",
      "L(x) =  -1.687146538138407\n",
      "-1.718281828459045\n",
      "погрешность метода Лагранжа в точке x: 0.03113529032063811\n",
      "Введите 0 для выхода, 1 для продолжения: \n"
     ]
    },
    {
     "ename": "ValueError",
     "evalue": "invalid literal for int() with base 10: '0.005'",
     "output_type": "error",
     "traceback": [
      "\u001B[1;31m---------------------------------------------------------------------------\u001B[0m",
      "\u001B[1;31mValueError\u001B[0m                                Traceback (most recent call last)",
      "\u001B[1;32m<ipython-input-3-fbee085d5ae9>\u001B[0m in \u001B[0;36m<module>\u001B[1;34m\u001B[0m\n\u001B[0;32m     55\u001B[0m \u001B[1;33m\u001B[0m\u001B[0m\n\u001B[0;32m     56\u001B[0m     \u001B[0mprint\u001B[0m\u001B[1;33m(\u001B[0m\u001B[1;34m\"Введите 0 для выхода, 1 для продолжения: \"\u001B[0m\u001B[1;33m)\u001B[0m\u001B[1;33m\u001B[0m\u001B[1;33m\u001B[0m\u001B[0m\n\u001B[1;32m---> 57\u001B[1;33m     \u001B[0mr\u001B[0m \u001B[1;33m=\u001B[0m \u001B[0mint\u001B[0m\u001B[1;33m(\u001B[0m\u001B[0minput\u001B[0m\u001B[1;33m(\u001B[0m\u001B[1;33m)\u001B[0m\u001B[1;33m)\u001B[0m\u001B[1;33m\u001B[0m\u001B[1;33m\u001B[0m\u001B[0m\n\u001B[0m\u001B[0;32m     58\u001B[0m \u001B[1;33m\u001B[0m\u001B[0m\n\u001B[0;32m     59\u001B[0m \u001B[1;33m\u001B[0m\u001B[0m\n",
      "\u001B[1;31mValueError\u001B[0m: invalid literal for int() with base 10: '0.005'"
     ]
    }
   ],
   "source": [
    "print(\"Введите a:\")\n",
    "a = float(input())\n",
    "print(\"Введите b:\")\n",
    "b = float(input())\n",
    "print(\"Введите m - число промежутков между узлами:\")\n",
    "m = int(input())\n",
    "\n",
    "values = []\n",
    "for i in range(m + 1):\n",
    "    xi = (a + i * (b - a) / m)\n",
    "    values.append((0, xi, f(xi)))\n",
    "\n",
    "print(pd.DataFrame(values))\n",
    "\n",
    "r = 1\n",
    "while r:\n",
    "    \n",
    "    print(\"Введите n - максимальную степень интерполяционного многочлена:\")\n",
    "    n = int(input())\n",
    "\n",
    "    while n > m:\n",
    "        print(\"Степень не можеть быть больше чем\", m)\n",
    "        print(\"Введите новое n: \")\n",
    "        n = int(input())\n",
    "\n",
    "    print(\"Введите x:\")\n",
    "    x = float(input())\n",
    "    \n",
    "\n",
    "    values = []\n",
    "    for i in range(m + 1):\n",
    "        xi = (a + i * (b - a) / m)\n",
    "        values.append((abs(x - xi), xi, f(xi)))\n",
    "    \n",
    "    values.sort()\n",
    "    \n",
    "    if x == values[0][1]:\n",
    "        print(\"Значение функции в этой точке известно\")\n",
    "        print(\"f(x) = \", values[0][2])\n",
    "    \n",
    "    else:\n",
    "        \n",
    "        #print(values)\n",
    "\n",
    "        \n",
    "\n",
    "        print(\"N(x) = \", Newton(x))\n",
    "        print(f(x))\n",
    "        print(\"погрешность метода Ньютона в точке x:\", abs(f(x) - Newton(x)))\n",
    "\n",
    "        print(\"L(x) = \", Lagrange(x))\n",
    "        print(f(x))\n",
    "        print(\"погрешность метода Лагранжа в точке x:\", abs(f(x) - Lagrange(x)))\n",
    "        \n",
    "        \n",
    "    print(\"Введите 0 для выхода, 1 для продолжения: \")\n",
    "    r = int(input())\n"
   ]
  },
  {
   "cell_type": "code",
   "execution_count": null,
   "metadata": {},
   "outputs": [],
   "source": [
    "print(\"Число значений в таблице: \", m + 1)\n",
    "df = pd.DataFrame(values)\n",
    "df.rename(columns={0: \"distance\", 1: \"x\", 2: \"f(x)\"})"
   ]
  },
  {
   "cell_type": "code",
   "execution_count": null,
   "metadata": {},
   "outputs": [],
   "source": []
  }
 ],
 "metadata": {
  "kernelspec": {
   "display_name": "Python 3",
   "language": "python",
   "name": "python3"
  },
  "language_info": {
   "codemirror_mode": {
    "name": "ipython",
    "version": 3
   },
   "file_extension": ".py",
   "mimetype": "text/x-python",
   "name": "python",
   "nbconvert_exporter": "python",
   "pygments_lexer": "ipython3",
   "version": "3.7.6"
  }
 },
 "nbformat": 4,
 "nbformat_minor": 4
}