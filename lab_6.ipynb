{
 "cells": [
  {
   "cell_type": "markdown",
   "metadata": {
    "collapsed": true,
    "pycharm": {
     "name": "#%% md\n"
    }
   },
   "source": [
    "## Дисциплина \"Вычислительный практикум\"\n",
    "## Задание №6\n",
    "# Численное решение Задачи Коши для обыкновенного дифференциального уравнения первого порядка\n",
    "## Ковальчуков Александр, 223 группа\n",
    "### Вариант №4"
   ]
  },
  {
   "cell_type": "markdown",
   "metadata": {
    "pycharm": {
     "name": "#%% md\n"
    }
   },
   "source": [
    "## Постановка задачи\n",
    "Необходимо найти решение Задачи Коши для уравнения $y´(x) = f(x,y)$ с начальным условием $y(x_0)=y_0$ в равноотстоящих точках различными методами.\n",
    "\n",
    "## Параметры задачи\n",
    "$y'(x) = -y(x) + y^2(x) \\;\\;\\; y(0) = 0.5$\n",
    "\n",
    "$h$ - шаг равноотстоящих точек\n",
    "\n",
    "$N$ - количество точек\n",
    "\n",
    "Код программы написан ня языке `python` с использованием интерактивной среды `Jupyter notebook`."
   ]
  },
  {
   "cell_type": "markdown",
   "metadata": {
    "pycharm": {
     "name": "#%% md\n"
    }
   },
   "source": [
    "### <font color=green> Точное решение </font>\n",
    "$\\dot y = -y + y^2$\n",
    "\n",
    "$t = \\frac{1}{y}, \\;\\;\\; \\dot y = \\frac{- \\dot t}{t^2}$\n",
    "\n",
    "$\\dot t = t - 1$\n",
    "\n",
    "$t = C e^x + 1$\n",
    "\n",
    "$y = \\frac{1}{Ce^x + 1} \\;\\;\\; 0.5 = \\frac{1}{C + 1} \\implies C = 1$\n",
    "\n",
    "Решение задачи Коши:\n",
    "\n",
    "$y = \\frac{1}{e^x + 1}$"
   ]
  },
  {
   "cell_type": "code",
   "execution_count": 1,
   "metadata": {
    "pycharm": {
     "name": "#%%\n"
    }
   },
   "outputs": [
    {
     "name": "stdout",
     "output_type": "stream",
     "text": [
      "Таблица значений y(x)\n"
     ]
    },
    {
     "data": {
      "text/html": [
       "<div>\n",
       "<style scoped>\n",
       "    .dataframe tbody tr th:only-of-type {\n",
       "        vertical-align: middle;\n",
       "    }\n",
       "\n",
       "    .dataframe tbody tr th {\n",
       "        vertical-align: top;\n",
       "    }\n",
       "\n",
       "    .dataframe thead th {\n",
       "        text-align: right;\n",
       "    }\n",
       "</style>\n",
       "<table border=\"1\" class=\"dataframe\">\n",
       "  <thead>\n",
       "    <tr style=\"text-align: right;\">\n",
       "      <th></th>\n",
       "      <th>x</th>\n",
       "      <th>y(x)</th>\n",
       "    </tr>\n",
       "  </thead>\n",
       "  <tbody>\n",
       "    <tr>\n",
       "      <th>0</th>\n",
       "      <td>-0.2</td>\n",
       "      <td>0.549834</td>\n",
       "    </tr>\n",
       "    <tr>\n",
       "      <th>1</th>\n",
       "      <td>-0.1</td>\n",
       "      <td>0.524979</td>\n",
       "    </tr>\n",
       "    <tr>\n",
       "      <th>2</th>\n",
       "      <td>0.0</td>\n",
       "      <td>0.500000</td>\n",
       "    </tr>\n",
       "    <tr>\n",
       "      <th>3</th>\n",
       "      <td>0.1</td>\n",
       "      <td>0.475021</td>\n",
       "    </tr>\n",
       "    <tr>\n",
       "      <th>4</th>\n",
       "      <td>0.2</td>\n",
       "      <td>0.450166</td>\n",
       "    </tr>\n",
       "    <tr>\n",
       "      <th>5</th>\n",
       "      <td>0.3</td>\n",
       "      <td>0.425557</td>\n",
       "    </tr>\n",
       "    <tr>\n",
       "      <th>6</th>\n",
       "      <td>0.4</td>\n",
       "      <td>0.401312</td>\n",
       "    </tr>\n",
       "    <tr>\n",
       "      <th>7</th>\n",
       "      <td>0.5</td>\n",
       "      <td>0.377541</td>\n",
       "    </tr>\n",
       "    <tr>\n",
       "      <th>8</th>\n",
       "      <td>0.6</td>\n",
       "      <td>0.354344</td>\n",
       "    </tr>\n",
       "    <tr>\n",
       "      <th>9</th>\n",
       "      <td>0.7</td>\n",
       "      <td>0.331812</td>\n",
       "    </tr>\n",
       "    <tr>\n",
       "      <th>10</th>\n",
       "      <td>0.8</td>\n",
       "      <td>0.310026</td>\n",
       "    </tr>\n",
       "    <tr>\n",
       "      <th>11</th>\n",
       "      <td>0.9</td>\n",
       "      <td>0.289050</td>\n",
       "    </tr>\n",
       "    <tr>\n",
       "      <th>12</th>\n",
       "      <td>1.0</td>\n",
       "      <td>0.268941</td>\n",
       "    </tr>\n",
       "  </tbody>\n",
       "</table>\n",
       "</div>"
      ],
      "text/plain": [
       "      x      y(x)\n",
       "0  -0.2  0.549834\n",
       "1  -0.1  0.524979\n",
       "2   0.0  0.500000\n",
       "3   0.1  0.475021\n",
       "4   0.2  0.450166\n",
       "5   0.3  0.425557\n",
       "6   0.4  0.401312\n",
       "7   0.5  0.377541\n",
       "8   0.6  0.354344\n",
       "9   0.7  0.331812\n",
       "10  0.8  0.310026\n",
       "11  0.9  0.289050\n",
       "12  1.0  0.268941"
      ]
     },
     "execution_count": 1,
     "metadata": {},
     "output_type": "execute_result"
    }
   ],
   "source": [
    "from math import e\n",
    "import pandas as pd\n",
    "h = 0.1\n",
    "n = 10\n",
    "x0 = 0\n",
    "\n",
    "dy = lambda x, y: -y + y**2\n",
    "y = lambda x: 1 / (e**x + 1)\n",
    "\n",
    "exact = pd.DataFrame([(x0 + k * h, y(x0 + k * h)) for k in range(-2, n + 1)])\n",
    "exact = exact.rename(columns={0: 'x', 1: 'y(x)'})\n",
    "print(\"Таблица значений y(x)\")\n",
    "exact\n"
   ]
  },
  {
   "cell_type": "markdown",
   "metadata": {
    "pycharm": {
     "name": "#%% md\n"
    }
   },
   "source": [
    "## <font color=green> Метод разложения в ряд Тейлора </font>\n",
    "\n",
    "|            $ $        |$y(0) = 0.5$|\n",
    "|--------------------|----------------|\n",
    "|$y' = -y + y^2$     | $y'(0) = -0.25$|\n",
    "|$y'' = -y' + 2yy'$  | $y''(0) = 0$   |\n",
    "|$y''' = -y'' + 2 {(y')}^2 + 2yy''$| $y'''(0) = 0.125$   |\n",
    "|$y^{(4)} = -y''' + 6y'y'' + 2yy'''$ | $y^{(4)}(0) = 0$   |\n",
    "|$y^{(5)} = -y^{(4)} + 6{(y'')}^2 + 8y'y''' + 2yy^{(4)}$ | $y^{(5)}(0) = -0.25$   |\n",
    "|$y^{(6)} = -y^{(5)} + 20y''y''' + 10y'y^{(4)} + 2yy^{(5)}$ | $y^{(6)}(0) = 0$   |\n",
    "|$y^{(7)} = -y^{(6)} + 20{(y''')}^2 + 30y''y^{(4)} + 12y'y^{(5)} + 2yy^{(6)}$ | $y^{(7)}(0) = 1.0625$   |\n",
    "\n",
    "Остановимся на 5 ненулевых слагаемых."
   ]
  },
  {
   "cell_type": "code",
   "execution_count": 2,
   "metadata": {
    "pycharm": {
     "name": "#%%\n"
    }
   },
   "outputs": [
    {
     "data": {
      "text/html": [
       "<div>\n",
       "<style scoped>\n",
       "    .dataframe tbody tr th:only-of-type {\n",
       "        vertical-align: middle;\n",
       "    }\n",
       "\n",
       "    .dataframe tbody tr th {\n",
       "        vertical-align: top;\n",
       "    }\n",
       "\n",
       "    .dataframe thead th {\n",
       "        text-align: right;\n",
       "    }\n",
       "</style>\n",
       "<table border=\"1\" class=\"dataframe\">\n",
       "  <thead>\n",
       "    <tr style=\"text-align: right;\">\n",
       "      <th></th>\n",
       "      <th>x</th>\n",
       "      <th>Tn(x)</th>\n",
       "      <th>|y(x) - Tn(x)|</th>\n",
       "    </tr>\n",
       "  </thead>\n",
       "  <tbody>\n",
       "    <tr>\n",
       "      <th>0</th>\n",
       "      <td>-0.2</td>\n",
       "      <td>0.549834</td>\n",
       "      <td>1.089062e-11</td>\n",
       "    </tr>\n",
       "    <tr>\n",
       "      <th>1</th>\n",
       "      <td>-0.1</td>\n",
       "      <td>0.524979</td>\n",
       "      <td>2.142730e-14</td>\n",
       "    </tr>\n",
       "    <tr>\n",
       "      <th>2</th>\n",
       "      <td>0.0</td>\n",
       "      <td>0.500000</td>\n",
       "      <td>0.000000e+00</td>\n",
       "    </tr>\n",
       "    <tr>\n",
       "      <th>3</th>\n",
       "      <td>0.1</td>\n",
       "      <td>0.475021</td>\n",
       "      <td>2.137179e-14</td>\n",
       "    </tr>\n",
       "    <tr>\n",
       "      <th>4</th>\n",
       "      <td>0.2</td>\n",
       "      <td>0.450166</td>\n",
       "      <td>1.089057e-11</td>\n",
       "    </tr>\n",
       "  </tbody>\n",
       "</table>\n",
       "</div>"
      ],
      "text/plain": [
       "     x     Tn(x)  |y(x) - Tn(x)|\n",
       "0 -0.2  0.549834    1.089062e-11\n",
       "1 -0.1  0.524979    2.142730e-14\n",
       "2  0.0  0.500000    0.000000e+00\n",
       "3  0.1  0.475021    2.137179e-14\n",
       "4  0.2  0.450166    1.089057e-11"
      ]
     },
     "execution_count": 2,
     "metadata": {},
     "output_type": "execute_result"
    }
   ],
   "source": [
    "x0 = 0\n",
    "taylor_formula = lambda x: (0.5 / 1 + (-0.25) / 1 * (x - x0) + 0.125 / 6 * (x - x0)**3 +\n",
    "                    (-0.25 / 120) * (x - x0)**5 + 1.0625 / 5040 * (x - x0)**7)\n",
    "\n",
    "\n",
    "taylor_table = pd.DataFrame([(x0 + k * h, taylor_formula(x0 + k * h), abs(taylor_formula(x0 + k * h) - y(x0 + k * h))) for k in range(-2, n + 1)])\n",
    "taylor_table = taylor_table.rename(columns={0: 'x', 1: 'Tn(x)', 2: '|y(x) - Tn(x)|'})\n",
    "taylor_table[:5]\n"
   ]
  },
  {
   "cell_type": "markdown",
   "metadata": {
    "pycharm": {
     "name": "#%% md\n"
    }
   },
   "source": [
    "### <font color=green> Экстраполяционный метод Адамса </font>\n",
    "\n",
    "$$y(x_{n+1}) = y(x_n) + \\sum_{j = 0}^5 \\left( f(x_{n-j}, y_{n-j})\\int_{x_n}^{x_{n+1}} \\frac{\\omega(x)}{(x - x_{n - j})\\omega'(x_{n-j})} dx \\right)$$"
   ]
  },
  {
   "cell_type": "code",
   "execution_count": 3,
   "metadata": {
    "pycharm": {
     "name": "#%%\n"
    }
   },
   "outputs": [
    {
     "name": "stdout",
     "output_type": "stream",
     "text": [
      "6.793160787221808e-07\n"
     ]
    },
    {
     "data": {
      "text/html": [
       "<div>\n",
       "<style scoped>\n",
       "    .dataframe tbody tr th:only-of-type {\n",
       "        vertical-align: middle;\n",
       "    }\n",
       "\n",
       "    .dataframe tbody tr th {\n",
       "        vertical-align: top;\n",
       "    }\n",
       "\n",
       "    .dataframe thead th {\n",
       "        text-align: right;\n",
       "    }\n",
       "</style>\n",
       "<table border=\"1\" class=\"dataframe\">\n",
       "  <thead>\n",
       "    <tr style=\"text-align: right;\">\n",
       "      <th></th>\n",
       "      <th>x</th>\n",
       "      <th>y(x)</th>\n",
       "    </tr>\n",
       "  </thead>\n",
       "  <tbody>\n",
       "    <tr>\n",
       "      <th>5</th>\n",
       "      <td>0.3</td>\n",
       "      <td>0.425557</td>\n",
       "    </tr>\n",
       "    <tr>\n",
       "      <th>6</th>\n",
       "      <td>0.4</td>\n",
       "      <td>0.401312</td>\n",
       "    </tr>\n",
       "    <tr>\n",
       "      <th>7</th>\n",
       "      <td>0.5</td>\n",
       "      <td>0.377541</td>\n",
       "    </tr>\n",
       "    <tr>\n",
       "      <th>8</th>\n",
       "      <td>0.6</td>\n",
       "      <td>0.354343</td>\n",
       "    </tr>\n",
       "    <tr>\n",
       "      <th>9</th>\n",
       "      <td>0.7</td>\n",
       "      <td>0.331812</td>\n",
       "    </tr>\n",
       "    <tr>\n",
       "      <th>10</th>\n",
       "      <td>0.8</td>\n",
       "      <td>0.310025</td>\n",
       "    </tr>\n",
       "    <tr>\n",
       "      <th>11</th>\n",
       "      <td>0.9</td>\n",
       "      <td>0.289050</td>\n",
       "    </tr>\n",
       "    <tr>\n",
       "      <th>12</th>\n",
       "      <td>1.0</td>\n",
       "      <td>0.268941</td>\n",
       "    </tr>\n",
       "  </tbody>\n",
       "</table>\n",
       "</div>"
      ],
      "text/plain": [
       "      x      y(x)\n",
       "5   0.3  0.425557\n",
       "6   0.4  0.401312\n",
       "7   0.5  0.377541\n",
       "8   0.6  0.354343\n",
       "9   0.7  0.331812\n",
       "10  0.8  0.310025\n",
       "11  0.9  0.289050\n",
       "12  1.0  0.268941"
      ]
     },
     "execution_count": 3,
     "metadata": {},
     "output_type": "execute_result"
    }
   ],
   "source": [
    "from lab_5 import *\n",
    "f = lambda x, y: -y + y**2\n",
    "adams_table = taylor_table[:5]\n",
    "adams_table = adams_table.drop('|y(x) - Tn(x)|', axis=1)\n",
    "# adams_table = adams_table.rename(columns={'Tn(x)': 'f(x)'})\n",
    "\n",
    "for k in range(3, n + 1):\n",
    "    xi = float(adams_table.tail(1)['x'])\n",
    "    d = formula(f, adams_table[-5:], xi, xi + h)\n",
    "    adams_table = adams_table.append({'x': xi + h, 'Tn(x)': d}, ignore_index=True)\n",
    "    # print([xi + h, d])\n",
    "# print(adams_table['f(x)'][-\n",
    "adams_table = adams_table.rename(columns={'Tn(x)': 'y(x)'})\n",
    "print(abs(list(adams_table['y(x)'])[-1] - list(exact['y(x)'])[-1]))\n",
    "adams_table[5:]"
   ]
  },
  {
   "cell_type": "markdown",
   "metadata": {
    "pycharm": {
     "name": "#%% md\n"
    }
   },
   "source": [
    "Абсолютная фактическая погрешность метода Адамса в точке $x = 1$:\n",
    "\n",
    "<font color=blue> $6.793160787221808 * 10^{-7}$ </font>"
   ]
  },
  {
   "cell_type": "markdown",
   "metadata": {},
   "source": [
    "### <font color=green> Метод Рунге-Кутта 4 порядка </font>\n",
    "\n",
    "$k_1 = h * f(x_n, y_n)$\n",
    "\n",
    "$k_2 = h * f(x_n + h/2, y_n + k_1/2)$\n",
    "\n",
    "$k_3 = h * f(x_n + h/2, y_n + k_2/2)$\n",
    "\n",
    "$k_4 = h * f(x_n + h, y_n + k_3)$\n",
    "\n",
    "$y_{n+1} = y_n + \\frac{1}{6} (k_1 + 2 k_2 + 2 k_3 + k_4)$"
   ]
  },
  {
   "cell_type": "code",
   "execution_count": 4,
   "metadata": {
    "pycharm": {
     "name": "#%%\n"
    }
   },
   "outputs": [
    {
     "name": "stdout",
     "output_type": "stream",
     "text": [
      "1.8491594477865192e-08\n"
     ]
    },
    {
     "data": {
      "text/html": [
       "<div>\n",
       "<style scoped>\n",
       "    .dataframe tbody tr th:only-of-type {\n",
       "        vertical-align: middle;\n",
       "    }\n",
       "\n",
       "    .dataframe tbody tr th {\n",
       "        vertical-align: top;\n",
       "    }\n",
       "\n",
       "    .dataframe thead th {\n",
       "        text-align: right;\n",
       "    }\n",
       "</style>\n",
       "<table border=\"1\" class=\"dataframe\">\n",
       "  <thead>\n",
       "    <tr style=\"text-align: right;\">\n",
       "      <th></th>\n",
       "      <th>x</th>\n",
       "      <th>y(x)</th>\n",
       "    </tr>\n",
       "  </thead>\n",
       "  <tbody>\n",
       "    <tr>\n",
       "      <th>0</th>\n",
       "      <td>0.1</td>\n",
       "      <td>0.475021</td>\n",
       "    </tr>\n",
       "    <tr>\n",
       "      <th>1</th>\n",
       "      <td>0.2</td>\n",
       "      <td>0.450166</td>\n",
       "    </tr>\n",
       "    <tr>\n",
       "      <th>2</th>\n",
       "      <td>0.3</td>\n",
       "      <td>0.425557</td>\n",
       "    </tr>\n",
       "    <tr>\n",
       "      <th>3</th>\n",
       "      <td>0.4</td>\n",
       "      <td>0.401312</td>\n",
       "    </tr>\n",
       "    <tr>\n",
       "      <th>4</th>\n",
       "      <td>0.5</td>\n",
       "      <td>0.377541</td>\n",
       "    </tr>\n",
       "    <tr>\n",
       "      <th>5</th>\n",
       "      <td>0.6</td>\n",
       "      <td>0.354344</td>\n",
       "    </tr>\n",
       "    <tr>\n",
       "      <th>6</th>\n",
       "      <td>0.7</td>\n",
       "      <td>0.331812</td>\n",
       "    </tr>\n",
       "    <tr>\n",
       "      <th>7</th>\n",
       "      <td>0.8</td>\n",
       "      <td>0.310026</td>\n",
       "    </tr>\n",
       "    <tr>\n",
       "      <th>8</th>\n",
       "      <td>0.9</td>\n",
       "      <td>0.289051</td>\n",
       "    </tr>\n",
       "    <tr>\n",
       "      <th>9</th>\n",
       "      <td>1.0</td>\n",
       "      <td>0.268941</td>\n",
       "    </tr>\n",
       "  </tbody>\n",
       "</table>\n",
       "</div>"
      ],
      "text/plain": [
       "     x      y(x)\n",
       "0  0.1  0.475021\n",
       "1  0.2  0.450166\n",
       "2  0.3  0.425557\n",
       "3  0.4  0.401312\n",
       "4  0.5  0.377541\n",
       "5  0.6  0.354344\n",
       "6  0.7  0.331812\n",
       "7  0.8  0.310026\n",
       "8  0.9  0.289051\n",
       "9  1.0  0.268941"
      ]
     },
     "execution_count": 4,
     "metadata": {},
     "output_type": "execute_result"
    }
   ],
   "source": [
    "yi = 0.5\n",
    "xi = 0\n",
    "runge_kutta_table = pd.DataFrame(columns=['x', 'y(x)'])\n",
    "for k in range(n):\n",
    "\n",
    "    k1 = h * dy(xi, yi)\n",
    "    k2 = h * dy(xi + h/2, yi + k1/2)\n",
    "    k3 = h * dy(xi + h/2, yi + k2/2)\n",
    "    k4 = h * dy(xi + h, yi + k3)\n",
    "    xi += h\n",
    "    yi += 1/6 * (k1 + 2 * k2 + 2 * k3 + k4)\n",
    "    runge_kutta_table = runge_kutta_table.append({'x': xi, 'y(x)': yi}, ignore_index=True)\n",
    "    # print(xi, yi)\n",
    "print(abs(list(runge_kutta_table['y(x)'])[-1] - list(exact['y(x)'])[-1]))\n",
    "runge_kutta_table"
   ]
  },
  {
   "cell_type": "markdown",
   "metadata": {},
   "source": [
    "Абсолютная фактическая погрешность метода Рунге-Кутта 4 порядка в точке $x = 1$:\n",
    "\n",
    "<font color=blue> $1.8491594477865192 * 10^{-8}$ </font>"
   ]
  },
  {
   "cell_type": "markdown",
   "metadata": {},
   "source": [
    "### <font color=green> Метод Эйлера </font>\n",
    "\n",
    "$y_{n+1} = y_n + h * f(x_n, y_n)$"
   ]
  },
  {
   "cell_type": "code",
   "execution_count": 5,
   "metadata": {
    "pycharm": {
     "name": "#%%\n"
    }
   },
   "outputs": [
    {
     "name": "stdout",
     "output_type": "stream",
     "text": [
      "0.00234443722800054\n"
     ]
    },
    {
     "data": {
      "text/html": [
       "<div>\n",
       "<style scoped>\n",
       "    .dataframe tbody tr th:only-of-type {\n",
       "        vertical-align: middle;\n",
       "    }\n",
       "\n",
       "    .dataframe tbody tr th {\n",
       "        vertical-align: top;\n",
       "    }\n",
       "\n",
       "    .dataframe thead th {\n",
       "        text-align: right;\n",
       "    }\n",
       "</style>\n",
       "<table border=\"1\" class=\"dataframe\">\n",
       "  <thead>\n",
       "    <tr style=\"text-align: right;\">\n",
       "      <th></th>\n",
       "      <th>x</th>\n",
       "      <th>y(x)</th>\n",
       "    </tr>\n",
       "  </thead>\n",
       "  <tbody>\n",
       "    <tr>\n",
       "      <th>0</th>\n",
       "      <td>0.1</td>\n",
       "      <td>0.475000</td>\n",
       "    </tr>\n",
       "    <tr>\n",
       "      <th>1</th>\n",
       "      <td>0.2</td>\n",
       "      <td>0.450062</td>\n",
       "    </tr>\n",
       "    <tr>\n",
       "      <th>2</th>\n",
       "      <td>0.3</td>\n",
       "      <td>0.425312</td>\n",
       "    </tr>\n",
       "    <tr>\n",
       "      <th>3</th>\n",
       "      <td>0.4</td>\n",
       "      <td>0.400870</td>\n",
       "    </tr>\n",
       "    <tr>\n",
       "      <th>4</th>\n",
       "      <td>0.5</td>\n",
       "      <td>0.376852</td>\n",
       "    </tr>\n",
       "    <tr>\n",
       "      <th>5</th>\n",
       "      <td>0.6</td>\n",
       "      <td>0.353369</td>\n",
       "    </tr>\n",
       "    <tr>\n",
       "      <th>6</th>\n",
       "      <td>0.7</td>\n",
       "      <td>0.330519</td>\n",
       "    </tr>\n",
       "    <tr>\n",
       "      <th>7</th>\n",
       "      <td>0.8</td>\n",
       "      <td>0.308391</td>\n",
       "    </tr>\n",
       "    <tr>\n",
       "      <th>8</th>\n",
       "      <td>0.9</td>\n",
       "      <td>0.287063</td>\n",
       "    </tr>\n",
       "    <tr>\n",
       "      <th>9</th>\n",
       "      <td>1.0</td>\n",
       "      <td>0.266597</td>\n",
       "    </tr>\n",
       "  </tbody>\n",
       "</table>\n",
       "</div>"
      ],
      "text/plain": [
       "     x      y(x)\n",
       "0  0.1  0.475000\n",
       "1  0.2  0.450062\n",
       "2  0.3  0.425312\n",
       "3  0.4  0.400870\n",
       "4  0.5  0.376852\n",
       "5  0.6  0.353369\n",
       "6  0.7  0.330519\n",
       "7  0.8  0.308391\n",
       "8  0.9  0.287063\n",
       "9  1.0  0.266597"
      ]
     },
     "execution_count": 5,
     "metadata": {},
     "output_type": "execute_result"
    }
   ],
   "source": [
    "yi = 0.5\n",
    "xi = 0\n",
    "euler_table = pd.DataFrame(columns=['x', 'y(x)'])\n",
    "for k in range(n):\n",
    "    yi += h * dy(xi, yi)\n",
    "    xi += h\n",
    "    euler_table = euler_table.append({'x': xi, 'y(x)': yi}, ignore_index=True)\n",
    "    # print(xi, yi)\n",
    "print(abs(list(euler_table['y(x)'])[-1] - list(exact['y(x)'])[-1]))\n",
    "euler_table"
   ]
  },
  {
   "cell_type": "markdown",
   "metadata": {},
   "source": [
    "Абсолютная фактическая погрешность метода Эйлера в точке $x = 1$:\n",
    "\n",
    "<font color=blue> $2.34443722800054 * 10^{-3}$ </font>"
   ]
  },
  {
   "cell_type": "markdown",
   "metadata": {},
   "source": [
    "### <font color=green> Усовершенствованный метод Эйлера </font>\n",
    "\n",
    "$y_{n+1/2} = y_n + \\frac{h}{2} * f(x_n, y_n)$\n",
    "\n",
    "$y_{n+1} = y_n + h * f(x_n + h/2, y_{n + 1/2})$"
   ]
  },
  {
   "cell_type": "code",
   "execution_count": 6,
   "metadata": {
    "pycharm": {
     "name": "#%%\n"
    }
   },
   "outputs": [
    {
     "name": "stdout",
     "output_type": "stream",
     "text": [
      "1.3765675268839761e-05\n"
     ]
    },
    {
     "data": {
      "text/html": [
       "<div>\n",
       "<style scoped>\n",
       "    .dataframe tbody tr th:only-of-type {\n",
       "        vertical-align: middle;\n",
       "    }\n",
       "\n",
       "    .dataframe tbody tr th {\n",
       "        vertical-align: top;\n",
       "    }\n",
       "\n",
       "    .dataframe thead th {\n",
       "        text-align: right;\n",
       "    }\n",
       "</style>\n",
       "<table border=\"1\" class=\"dataframe\">\n",
       "  <thead>\n",
       "    <tr style=\"text-align: right;\">\n",
       "      <th></th>\n",
       "      <th>x</th>\n",
       "      <th>y(x)</th>\n",
       "    </tr>\n",
       "  </thead>\n",
       "  <tbody>\n",
       "    <tr>\n",
       "      <th>0</th>\n",
       "      <td>0.1</td>\n",
       "      <td>0.475016</td>\n",
       "    </tr>\n",
       "    <tr>\n",
       "      <th>1</th>\n",
       "      <td>0.2</td>\n",
       "      <td>0.450156</td>\n",
       "    </tr>\n",
       "    <tr>\n",
       "      <th>2</th>\n",
       "      <td>0.3</td>\n",
       "      <td>0.425543</td>\n",
       "    </tr>\n",
       "    <tr>\n",
       "      <th>3</th>\n",
       "      <td>0.4</td>\n",
       "      <td>0.401294</td>\n",
       "    </tr>\n",
       "    <tr>\n",
       "      <th>4</th>\n",
       "      <td>0.5</td>\n",
       "      <td>0.377520</td>\n",
       "    </tr>\n",
       "    <tr>\n",
       "      <th>5</th>\n",
       "      <td>0.6</td>\n",
       "      <td>0.354322</td>\n",
       "    </tr>\n",
       "    <tr>\n",
       "      <th>6</th>\n",
       "      <td>0.7</td>\n",
       "      <td>0.331791</td>\n",
       "    </tr>\n",
       "    <tr>\n",
       "      <th>7</th>\n",
       "      <td>0.8</td>\n",
       "      <td>0.310005</td>\n",
       "    </tr>\n",
       "    <tr>\n",
       "      <th>8</th>\n",
       "      <td>0.9</td>\n",
       "      <td>0.289033</td>\n",
       "    </tr>\n",
       "    <tr>\n",
       "      <th>9</th>\n",
       "      <td>1.0</td>\n",
       "      <td>0.268928</td>\n",
       "    </tr>\n",
       "  </tbody>\n",
       "</table>\n",
       "</div>"
      ],
      "text/plain": [
       "     x      y(x)\n",
       "0  0.1  0.475016\n",
       "1  0.2  0.450156\n",
       "2  0.3  0.425543\n",
       "3  0.4  0.401294\n",
       "4  0.5  0.377520\n",
       "5  0.6  0.354322\n",
       "6  0.7  0.331791\n",
       "7  0.8  0.310005\n",
       "8  0.9  0.289033\n",
       "9  1.0  0.268928"
      ]
     },
     "execution_count": 6,
     "metadata": {},
     "output_type": "execute_result"
    }
   ],
   "source": [
    "yi = 0.5\n",
    "xi = 0\n",
    "modified_euler_table = pd.DataFrame(columns=['x', 'y(x)'])\n",
    "for k in range(n):\n",
    "    yi_2 = yi + h/2 * dy(xi, yi)\n",
    "    yi += h * dy(xi + h/2, yi_2)\n",
    "    xi += h\n",
    "    modified_euler_table = modified_euler_table.append({'x': xi, 'y(x)': yi}, ignore_index=True)\n",
    "    # print(xi, yi)\n",
    "print(abs(list(modified_euler_table['y(x)'])[-1] - list(exact['y(x)'])[-1]))\n",
    "modified_euler_table"
   ]
  },
  {
   "cell_type": "markdown",
   "metadata": {},
   "source": [
    "Абсолютная фактическая погрешность усовершенствованного метода Эйлера в точке $x = 1$:\n",
    "\n",
    "<font color=blue> $1.3765675268839761 * 10^{-5}$ </font>"
   ]
  },
  {
   "cell_type": "markdown",
   "metadata": {},
   "source": [
    "### <font color=green> Метод Эйлера-Коши </font>\n",
    "\n",
    "$Y_{n+1} = y_n + h * f(x_n, y_n)$\n",
    "\n",
    "$y_{n+1} = y_n + \\frac{h}{2}(f(x_n, y_n) + f(x_{n+1}, Y_{n+1}))$"
   ]
  },
  {
   "cell_type": "code",
   "execution_count": 7,
   "metadata": {
    "pycharm": {
     "name": "#%%\n"
    }
   },
   "outputs": [
    {
     "name": "stdout",
     "output_type": "stream",
     "text": [
      "0.00010377624277851938\n"
     ]
    },
    {
     "data": {
      "text/html": [
       "<div>\n",
       "<style scoped>\n",
       "    .dataframe tbody tr th:only-of-type {\n",
       "        vertical-align: middle;\n",
       "    }\n",
       "\n",
       "    .dataframe tbody tr th {\n",
       "        vertical-align: top;\n",
       "    }\n",
       "\n",
       "    .dataframe thead th {\n",
       "        text-align: right;\n",
       "    }\n",
       "</style>\n",
       "<table border=\"1\" class=\"dataframe\">\n",
       "  <thead>\n",
       "    <tr style=\"text-align: right;\">\n",
       "      <th></th>\n",
       "      <th>x</th>\n",
       "      <th>y(x)</th>\n",
       "    </tr>\n",
       "  </thead>\n",
       "  <tbody>\n",
       "    <tr>\n",
       "      <th>0</th>\n",
       "      <td>0.1</td>\n",
       "      <td>0.475031</td>\n",
       "    </tr>\n",
       "    <tr>\n",
       "      <th>1</th>\n",
       "      <td>0.2</td>\n",
       "      <td>0.450187</td>\n",
       "    </tr>\n",
       "    <tr>\n",
       "      <th>2</th>\n",
       "      <td>0.3</td>\n",
       "      <td>0.425589</td>\n",
       "    </tr>\n",
       "    <tr>\n",
       "      <th>3</th>\n",
       "      <td>0.4</td>\n",
       "      <td>0.401355</td>\n",
       "    </tr>\n",
       "    <tr>\n",
       "      <th>4</th>\n",
       "      <td>0.5</td>\n",
       "      <td>0.377593</td>\n",
       "    </tr>\n",
       "    <tr>\n",
       "      <th>5</th>\n",
       "      <td>0.6</td>\n",
       "      <td>0.354407</td>\n",
       "    </tr>\n",
       "    <tr>\n",
       "      <th>6</th>\n",
       "      <td>0.7</td>\n",
       "      <td>0.331886</td>\n",
       "    </tr>\n",
       "    <tr>\n",
       "      <th>7</th>\n",
       "      <td>0.8</td>\n",
       "      <td>0.310110</td>\n",
       "    </tr>\n",
       "    <tr>\n",
       "      <th>8</th>\n",
       "      <td>0.9</td>\n",
       "      <td>0.289145</td>\n",
       "    </tr>\n",
       "    <tr>\n",
       "      <th>9</th>\n",
       "      <td>1.0</td>\n",
       "      <td>0.269045</td>\n",
       "    </tr>\n",
       "  </tbody>\n",
       "</table>\n",
       "</div>"
      ],
      "text/plain": [
       "     x      y(x)\n",
       "0  0.1  0.475031\n",
       "1  0.2  0.450187\n",
       "2  0.3  0.425589\n",
       "3  0.4  0.401355\n",
       "4  0.5  0.377593\n",
       "5  0.6  0.354407\n",
       "6  0.7  0.331886\n",
       "7  0.8  0.310110\n",
       "8  0.9  0.289145\n",
       "9  1.0  0.269045"
      ]
     },
     "execution_count": 7,
     "metadata": {},
     "output_type": "execute_result"
    }
   ],
   "source": [
    "yi = 0.5\n",
    "xi = 0\n",
    "euler_cauchy_table = pd.DataFrame(columns=['x', 'y(x)'])\n",
    "for k in range(n):\n",
    "    Yi = yi + h * dy(xi, yi)\n",
    "    yi += h/2 * (dy(xi, yi) + dy(xi + h, Yi))\n",
    "    xi += h\n",
    "    euler_cauchy_table = euler_cauchy_table.append({'x': xi, 'y(x)': yi}, ignore_index=True)\n",
    "    # print(xi, yi)\n",
    "print(abs(list(euler_cauchy_table['y(x)'])[-1] - list(exact['y(x)'])[-1]))\n",
    "euler_cauchy_table\n"
   ]
  },
  {
   "cell_type": "markdown",
   "metadata": {},
   "source": [
    "Абсолютная фактическая погрешность метода Эйлера-Коши в точке $x = 1$:\n",
    "\n",
    "<font color=blue> $1.0377624277851938 * 10^{-4}$ </font>"
   ]
  },
  {
   "cell_type": "markdown",
   "metadata": {
    "pycharm": {
     "name": "#%% md\n"
    }
   },
   "source": [
    "## Выводы\n",
    "\n",
    "Наименьшей абсолютной фактической погрешностью в данной задаче Коши имеет метод Рунге-Кутта 4 порядка.\n",
    "Кроме того, он не требует начала таблицы и может менять шаг без необходимости пересчитывать старые значения."
   ]
  }
 ],
 "metadata": {
  "kernelspec": {
   "display_name": "Python 3",
   "language": "python",
   "name": "python3"
  },
  "language_info": {
   "codemirror_mode": {
    "name": "ipython",
    "version": 3
   },
   "file_extension": ".py",
   "mimetype": "text/x-python",
   "name": "python",
   "nbconvert_exporter": "python",
   "pygments_lexer": "ipython3",
   "version": "3.7.7"
  }
 },
 "nbformat": 4,
 "nbformat_minor": 1
}